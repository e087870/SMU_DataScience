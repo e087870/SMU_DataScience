{
 "cells": [
  {
   "cell_type": "markdown",
   "metadata": {},
   "source": [
    "# SVM & LR Classification"
   ]
  },
  {
   "cell_type": "markdown",
   "metadata": {},
   "source": [
    "## Introduction\n",
    "This project will explore predictive analysis using logistic regression and support vector machine. The basic approach to the data mining project loosely follows the CRISP-DM outline.\n",
    "\n",
    "For this mini-lab assignment, our team has once again selected the Bureau of Transportation Statistics (BTS) \"Airline On-Time Performance Data\" that contains arrival performance data for US carriers that contributed at least one percent of the total domestic scheduled-service passenger revenues. BTS publishes the dataset for each month in csv format, so we downloaded 12 separate files to get annual data for continuous 12-month period ending September 2015.\n",
    "\n",
    "The dataset is quite large and for this project the dataset was reduced to six variables. These six variables are used to create train and test the model. There are as follows:\n",
    "\n",
    "\n",
    "|Variable|Definition|\n",
    "|------|------|\n",
    "|ArrDel15 (Response)  |Arrival Delay Indicator, 15 Minutes or More (1=Yes, 0=No)|\n",
    "|Carrier |Code assigned by IATA and commonly used to identify a carrier|\n",
    "|ArrTimeBlk |CRS Arrival Time Block, Hourly Intervals|\n",
    "|Distance |Distance between airports (miles)|\n",
    "|DayofWeek |Day of Week|\n",
    "|DayofMonth |Day of Month|\n",
    "\n",
    "________"
   ]
  },
  {
   "cell_type": "code",
   "execution_count": 3,
   "metadata": {
    "collapsed": false
   },
   "outputs": [
    {
     "name": "stdout",
     "output_type": "stream",
     "text": [
      "Once deleted, variables cannot be recovered. Proceed (y/[n])? y\n"
     ]
    }
   ],
   "source": [
    "%reset\n",
    "import glob\n",
    "import pandas as pd\n",
    "import numpy as np\n",
    "import matplotlib.pyplot as plt\n",
    "%matplotlib inline\n",
    "from sklearn.linear_model import LogisticRegression\n",
    "from sklearn.cross_validation import train_test_split\n",
    "from sklearn import metrics\n",
    "from sklearn.cross_validation import cross_val_score"
   ]
  },
  {
   "cell_type": "markdown",
   "metadata": {},
   "source": [
    "________\n",
    "Build the dataset from the individual csv files"
   ]
  },
  {
   "cell_type": "code",
   "execution_count": 4,
   "metadata": {
    "collapsed": true
   },
   "outputs": [],
   "source": [
    "# Edit path to location of csv files\n",
    "path =r'C:\\Users\\Mike Sylvester\\Box Sync\\DataMining_Lab'\n",
    "allFiles = glob.glob(path + \"/*.csv\")"
   ]
  },
  {
   "cell_type": "code",
   "execution_count": 5,
   "metadata": {
    "collapsed": false
   },
   "outputs": [],
   "source": [
    "# Read in all csv files and create a single csv file for later use\n",
    "frame = pd.DataFrame()\n",
    "list_ = []\n",
    "for file_ in allFiles:\n",
    "    frame = pd.read_csv(file_,index_col=None, header=0,low_memory=False)\n",
    "    frame1 = frame[list(frame.columns[0:11])]\n",
    "    frame2 = frame.iloc[:,[14]]\n",
    "    frame3 = frame.iloc[:,[23]]\n",
    "    frame4 = frame[list(frame.columns[42:61])]\n",
    "    frame = pd.concat([frame1, frame2, frame3, frame4], axis=1, join_axes=[frame1.index], ignore_index=True)\n",
    "    list_.append(frame)\n",
    "\n",
    "frame = pd.concat(list_, ignore_index=True)    \n",
    "frame.columns = ['Year', 'Quarter', 'Month', 'DayofMonth', 'DayOfWeek', 'FlightDate', 'Carrier', 'AirlineID',\n",
    "                 'Carrier2', 'TailNum', 'FlightNum', 'Origin', 'Dest', 'ArrDelay', 'ArrDelayMinutes', 'ArrDel15',\n",
    "                 'ArrivalDelayGroups', 'ArrTimeBlk', 'Cancelled', 'CancellationCode', 'Diverted', 'CRSElapsedTime',\n",
    "                 'ActualElapsedTime', 'AirTime', 'Flights', 'Distance', 'DistanceGroup', 'CarrierDelay',\n",
    "                 'WeatherDelay', 'NASDelay', 'SecurityDelay', 'LateAircraftDelay']\n",
    "\n",
    "frame.to_csv(r'C:\\Users\\Mike Sylvester\\Box Sync\\DataMining_Lab\\data\\out2.csv', sep='\\t')"
   ]
  },
  {
   "cell_type": "code",
   "execution_count": 4,
   "metadata": {
    "collapsed": false
   },
   "outputs": [],
   "source": [
    "# Edit path to location of Output csv file\n",
    "df = pd.read_csv(r'C:\\Users\\Mike Sylvester\\Box Sync\\DataMining_Lab\\data\\out2.csv', sep='\\t', low_memory=False)"
   ]
  },
  {
   "cell_type": "markdown",
   "metadata": {},
   "source": [
    "________\n",
    "Dataset cleanup - remove cancelled flights from the dataset"
   ]
  },
  {
   "cell_type": "code",
   "execution_count": 6,
   "metadata": {
    "collapsed": false
   },
   "outputs": [
    {
     "data": {
      "text/html": [
       "<div>\n",
       "<table border=\"1\" class=\"dataframe\">\n",
       "  <thead>\n",
       "    <tr style=\"text-align: right;\">\n",
       "      <th></th>\n",
       "      <th>Carrier</th>\n",
       "      <th>ArrTimeBlk</th>\n",
       "      <th>Distance</th>\n",
       "      <th>DayOfWeek</th>\n",
       "      <th>DayofMonth</th>\n",
       "      <th>ArrDel15</th>\n",
       "    </tr>\n",
       "  </thead>\n",
       "  <tbody>\n",
       "    <tr>\n",
       "      <th>0</th>\n",
       "      <td>DL</td>\n",
       "      <td>1000-1059</td>\n",
       "      <td>731.0</td>\n",
       "      <td>4</td>\n",
       "      <td>23</td>\n",
       "      <td>0.0</td>\n",
       "    </tr>\n",
       "    <tr>\n",
       "      <th>1</th>\n",
       "      <td>DL</td>\n",
       "      <td>1500-1559</td>\n",
       "      <td>373.0</td>\n",
       "      <td>4</td>\n",
       "      <td>23</td>\n",
       "      <td>0.0</td>\n",
       "    </tr>\n",
       "    <tr>\n",
       "      <th>2</th>\n",
       "      <td>DL</td>\n",
       "      <td>0700-0759</td>\n",
       "      <td>488.0</td>\n",
       "      <td>4</td>\n",
       "      <td>23</td>\n",
       "      <td>0.0</td>\n",
       "    </tr>\n",
       "    <tr>\n",
       "      <th>3</th>\n",
       "      <td>DL</td>\n",
       "      <td>2100-2159</td>\n",
       "      <td>689.0</td>\n",
       "      <td>4</td>\n",
       "      <td>23</td>\n",
       "      <td>0.0</td>\n",
       "    </tr>\n",
       "    <tr>\n",
       "      <th>4</th>\n",
       "      <td>DL</td>\n",
       "      <td>1700-1759</td>\n",
       "      <td>240.0</td>\n",
       "      <td>4</td>\n",
       "      <td>23</td>\n",
       "      <td>1.0</td>\n",
       "    </tr>\n",
       "    <tr>\n",
       "      <th>5</th>\n",
       "      <td>DL</td>\n",
       "      <td>2000-2059</td>\n",
       "      <td>240.0</td>\n",
       "      <td>4</td>\n",
       "      <td>23</td>\n",
       "      <td>1.0</td>\n",
       "    </tr>\n",
       "    <tr>\n",
       "      <th>6</th>\n",
       "      <td>DL</td>\n",
       "      <td>1800-1859</td>\n",
       "      <td>908.0</td>\n",
       "      <td>4</td>\n",
       "      <td>23</td>\n",
       "      <td>0.0</td>\n",
       "    </tr>\n",
       "    <tr>\n",
       "      <th>7</th>\n",
       "      <td>DL</td>\n",
       "      <td>1300-1359</td>\n",
       "      <td>152.0</td>\n",
       "      <td>4</td>\n",
       "      <td>23</td>\n",
       "      <td>0.0</td>\n",
       "    </tr>\n",
       "    <tr>\n",
       "      <th>8</th>\n",
       "      <td>DL</td>\n",
       "      <td>1500-1559</td>\n",
       "      <td>152.0</td>\n",
       "      <td>4</td>\n",
       "      <td>23</td>\n",
       "      <td>0.0</td>\n",
       "    </tr>\n",
       "    <tr>\n",
       "      <th>9</th>\n",
       "      <td>DL</td>\n",
       "      <td>0700-0759</td>\n",
       "      <td>481.0</td>\n",
       "      <td>4</td>\n",
       "      <td>23</td>\n",
       "      <td>0.0</td>\n",
       "    </tr>\n",
       "    <tr>\n",
       "      <th>10</th>\n",
       "      <td>DL</td>\n",
       "      <td>1100-1159</td>\n",
       "      <td>453.0</td>\n",
       "      <td>4</td>\n",
       "      <td>23</td>\n",
       "      <td>1.0</td>\n",
       "    </tr>\n",
       "    <tr>\n",
       "      <th>11</th>\n",
       "      <td>DL</td>\n",
       "      <td>1400-1459</td>\n",
       "      <td>453.0</td>\n",
       "      <td>4</td>\n",
       "      <td>23</td>\n",
       "      <td>0.0</td>\n",
       "    </tr>\n",
       "    <tr>\n",
       "      <th>12</th>\n",
       "      <td>DL</td>\n",
       "      <td>1200-1259</td>\n",
       "      <td>931.0</td>\n",
       "      <td>4</td>\n",
       "      <td>23</td>\n",
       "      <td>0.0</td>\n",
       "    </tr>\n",
       "    <tr>\n",
       "      <th>13</th>\n",
       "      <td>DL</td>\n",
       "      <td>1700-1759</td>\n",
       "      <td>270.0</td>\n",
       "      <td>4</td>\n",
       "      <td>23</td>\n",
       "      <td>0.0</td>\n",
       "    </tr>\n",
       "    <tr>\n",
       "      <th>14</th>\n",
       "      <td>DL</td>\n",
       "      <td>1900-1959</td>\n",
       "      <td>270.0</td>\n",
       "      <td>4</td>\n",
       "      <td>23</td>\n",
       "      <td>0.0</td>\n",
       "    </tr>\n",
       "    <tr>\n",
       "      <th>15</th>\n",
       "      <td>DL</td>\n",
       "      <td>1700-1759</td>\n",
       "      <td>762.0</td>\n",
       "      <td>4</td>\n",
       "      <td>23</td>\n",
       "      <td>0.0</td>\n",
       "    </tr>\n",
       "    <tr>\n",
       "      <th>16</th>\n",
       "      <td>DL</td>\n",
       "      <td>1100-1159</td>\n",
       "      <td>731.0</td>\n",
       "      <td>4</td>\n",
       "      <td>23</td>\n",
       "      <td>0.0</td>\n",
       "    </tr>\n",
       "    <tr>\n",
       "      <th>17</th>\n",
       "      <td>DL</td>\n",
       "      <td>1900-1959</td>\n",
       "      <td>1892.0</td>\n",
       "      <td>4</td>\n",
       "      <td>23</td>\n",
       "      <td>0.0</td>\n",
       "    </tr>\n",
       "    <tr>\n",
       "      <th>18</th>\n",
       "      <td>DL</td>\n",
       "      <td>1600-1659</td>\n",
       "      <td>1535.0</td>\n",
       "      <td>4</td>\n",
       "      <td>23</td>\n",
       "      <td>0.0</td>\n",
       "    </tr>\n",
       "    <tr>\n",
       "      <th>19</th>\n",
       "      <td>DL</td>\n",
       "      <td>1200-1259</td>\n",
       "      <td>1269.0</td>\n",
       "      <td>4</td>\n",
       "      <td>23</td>\n",
       "      <td>0.0</td>\n",
       "    </tr>\n",
       "  </tbody>\n",
       "</table>\n",
       "</div>"
      ],
      "text/plain": [
       "   Carrier ArrTimeBlk  Distance  DayOfWeek  DayofMonth  ArrDel15\n",
       "0       DL  1000-1059     731.0          4          23       0.0\n",
       "1       DL  1500-1559     373.0          4          23       0.0\n",
       "2       DL  0700-0759     488.0          4          23       0.0\n",
       "3       DL  2100-2159     689.0          4          23       0.0\n",
       "4       DL  1700-1759     240.0          4          23       1.0\n",
       "5       DL  2000-2059     240.0          4          23       1.0\n",
       "6       DL  1800-1859     908.0          4          23       0.0\n",
       "7       DL  1300-1359     152.0          4          23       0.0\n",
       "8       DL  1500-1559     152.0          4          23       0.0\n",
       "9       DL  0700-0759     481.0          4          23       0.0\n",
       "10      DL  1100-1159     453.0          4          23       1.0\n",
       "11      DL  1400-1459     453.0          4          23       0.0\n",
       "12      DL  1200-1259     931.0          4          23       0.0\n",
       "13      DL  1700-1759     270.0          4          23       0.0\n",
       "14      DL  1900-1959     270.0          4          23       0.0\n",
       "15      DL  1700-1759     762.0          4          23       0.0\n",
       "16      DL  1100-1159     731.0          4          23       0.0\n",
       "17      DL  1900-1959    1892.0          4          23       0.0\n",
       "18      DL  1600-1659    1535.0          4          23       0.0\n",
       "19      DL  1200-1259    1269.0          4          23       0.0"
      ]
     },
     "execution_count": 6,
     "metadata": {},
     "output_type": "execute_result"
    }
   ],
   "source": [
    "#Remove cancelled flights\n",
    "NonCancelled = frame.loc[(frame['Cancelled']==0), ['Carrier', 'ArrTimeBlk', 'Distance', 'DayOfWeek', 'DayofMonth', 'ArrDel15']]\n",
    "NonCancelled.head(20)"
   ]
  },
  {
   "cell_type": "markdown",
   "metadata": {},
   "source": [
    "________\n",
    "List the number of flights by carrier to further reduce the dataset"
   ]
  },
  {
   "cell_type": "code",
   "execution_count": 7,
   "metadata": {
    "collapsed": false
   },
   "outputs": [
    {
     "name": "stdout",
     "output_type": "stream",
     "text": [
      "WN    1226297\n",
      "DL     857950\n",
      "AA     621937\n",
      "EV     584915\n",
      "OO     580624\n",
      "UA     501103\n",
      "MQ     306008\n",
      "US     297024\n",
      "B6     257918\n",
      "AS     169067\n",
      "F9      90027\n",
      "NK      84680\n",
      "HA      76435\n",
      "VX      59451\n",
      "FL      11514\n",
      "dtype: int64\n"
     ]
    }
   ],
   "source": [
    "# Count number of noncancelled flights by carrier\n",
    "CarrierFlights = pd.value_counts(NonCancelled['Carrier'].values, sort=True)\n",
    "print (CarrierFlights)"
   ]
  },
  {
   "cell_type": "markdown",
   "metadata": {},
   "source": [
    "________\n",
    "Select the top 5 carriers as listed above to \n",
    "(a) reduce size of dataset and \n",
    "(b) reduce number of categorical variables needed for analysis"
   ]
  },
  {
   "cell_type": "code",
   "execution_count": 8,
   "metadata": {
    "collapsed": false
   },
   "outputs": [
    {
     "data": {
      "text/html": [
       "<div>\n",
       "<table border=\"1\" class=\"dataframe\">\n",
       "  <thead>\n",
       "    <tr style=\"text-align: right;\">\n",
       "      <th></th>\n",
       "      <th>Carrier</th>\n",
       "      <th>ArrTimeBlk</th>\n",
       "      <th>Distance</th>\n",
       "      <th>DayOfWeek</th>\n",
       "      <th>DayofMonth</th>\n",
       "      <th>ArrDel15</th>\n",
       "    </tr>\n",
       "  </thead>\n",
       "  <tbody>\n",
       "    <tr>\n",
       "      <th>0</th>\n",
       "      <td>DL</td>\n",
       "      <td>1000-1059</td>\n",
       "      <td>731.0</td>\n",
       "      <td>4</td>\n",
       "      <td>23</td>\n",
       "      <td>0.0</td>\n",
       "    </tr>\n",
       "    <tr>\n",
       "      <th>1</th>\n",
       "      <td>DL</td>\n",
       "      <td>1500-1559</td>\n",
       "      <td>373.0</td>\n",
       "      <td>4</td>\n",
       "      <td>23</td>\n",
       "      <td>0.0</td>\n",
       "    </tr>\n",
       "    <tr>\n",
       "      <th>2</th>\n",
       "      <td>DL</td>\n",
       "      <td>0700-0759</td>\n",
       "      <td>488.0</td>\n",
       "      <td>4</td>\n",
       "      <td>23</td>\n",
       "      <td>0.0</td>\n",
       "    </tr>\n",
       "    <tr>\n",
       "      <th>3</th>\n",
       "      <td>DL</td>\n",
       "      <td>2100-2159</td>\n",
       "      <td>689.0</td>\n",
       "      <td>4</td>\n",
       "      <td>23</td>\n",
       "      <td>0.0</td>\n",
       "    </tr>\n",
       "    <tr>\n",
       "      <th>4</th>\n",
       "      <td>DL</td>\n",
       "      <td>1700-1759</td>\n",
       "      <td>240.0</td>\n",
       "      <td>4</td>\n",
       "      <td>23</td>\n",
       "      <td>1.0</td>\n",
       "    </tr>\n",
       "  </tbody>\n",
       "</table>\n",
       "</div>"
      ],
      "text/plain": [
       "  Carrier ArrTimeBlk  Distance  DayOfWeek  DayofMonth  ArrDel15\n",
       "0      DL  1000-1059     731.0          4          23       0.0\n",
       "1      DL  1500-1559     373.0          4          23       0.0\n",
       "2      DL  0700-0759     488.0          4          23       0.0\n",
       "3      DL  2100-2159     689.0          4          23       0.0\n",
       "4      DL  1700-1759     240.0          4          23       1.0"
      ]
     },
     "execution_count": 8,
     "metadata": {},
     "output_type": "execute_result"
    }
   ],
   "source": [
    "#Select top 5 carriers by flight\n",
    "# APCarrier = frame.loc[(frame['APCombo']=='SAN-ATL')|(frame['APCombo']=='CHS-ATL')|(frame['APCombo']=='HNL-OGG'), ['Carrier','APCombo','ArrDel15']]\n",
    "NonCancelled5 = NonCancelled.loc[(NonCancelled['Carrier']=='WN')|(NonCancelled['Carrier']=='DL')|(NonCancelled['Carrier']=='AA')|(NonCancelled['Carrier']=='OO')|(NonCancelled['Carrier']=='EV'), ['Carrier', 'ArrTimeBlk', 'Distance', 'DayOfWeek', 'DayofMonth', 'ArrDel15']]\n",
    "NonCancelled5.head()"
   ]
  },
  {
   "cell_type": "markdown",
   "metadata": {},
   "source": [
    "________\n",
    "Prepare dataset for logistic regression"
   ]
  },
  {
   "cell_type": "code",
   "execution_count": 18,
   "metadata": {
    "collapsed": false
   },
   "outputs": [],
   "source": [
    "# Removes ArrDel15 from working data frame\n",
    "NonCancelled5 = NonCancelled5[np.isfinite(NonCancelled5['ArrDel15'])]\n",
    "df_X = NonCancelled5[['Carrier', 'ArrTimeBlk', 'Distance', 'DayOfWeek', 'DayofMonth']]\n",
    "NonCancelled5['ArrDel15'] = NonCancelled5['ArrDel15'].astype(np.bool)"
   ]
  },
  {
   "cell_type": "code",
   "execution_count": 19,
   "metadata": {
    "collapsed": false
   },
   "outputs": [
    {
     "name": "stdout",
     "output_type": "stream",
     "text": [
      "<class 'pandas.core.frame.DataFrame'>\n",
      "Int64Index: 3861545 entries, 0 to 5812916\n",
      "Data columns (total 9 columns):\n",
      "ArrTimeBlk    object\n",
      "Distance      float64\n",
      "DayOfWeek     int64\n",
      "DayofMonth    int64\n",
      "Carrier_AA    float64\n",
      "Carrier_DL    float64\n",
      "Carrier_EV    float64\n",
      "Carrier_OO    float64\n",
      "Carrier_WN    float64\n",
      "dtypes: float64(6), int64(2), object(1)\n",
      "memory usage: 294.6+ MB\n"
     ]
    }
   ],
   "source": [
    "# Converts categorical variable Carrier to binary\n",
    "tmp_df = pd.get_dummies(df_X.Carrier,prefix='Carrier')\n",
    "df_imputed = pd.concat((df_X,tmp_df),axis=1) # add back into the dataframe\n",
    "df_X = df_imputed.drop('Carrier', axis=1)\n",
    "df_X.info()"
   ]
  },
  {
   "cell_type": "code",
   "execution_count": 20,
   "metadata": {
    "collapsed": false
   },
   "outputs": [
    {
     "name": "stdout",
     "output_type": "stream",
     "text": [
      "<class 'pandas.core.frame.DataFrame'>\n",
      "Int64Index: 3861545 entries, 0 to 5812916\n",
      "Data columns (total 27 columns):\n",
      "Distance                float64\n",
      "DayOfWeek               int64\n",
      "DayofMonth              int64\n",
      "Carrier_AA              float64\n",
      "Carrier_DL              float64\n",
      "Carrier_EV              float64\n",
      "Carrier_OO              float64\n",
      "Carrier_WN              float64\n",
      "ArrTimeBlk_0001-0559    float64\n",
      "ArrTimeBlk_0600-0659    float64\n",
      "ArrTimeBlk_0700-0759    float64\n",
      "ArrTimeBlk_0800-0859    float64\n",
      "ArrTimeBlk_0900-0959    float64\n",
      "ArrTimeBlk_1000-1059    float64\n",
      "ArrTimeBlk_1100-1159    float64\n",
      "ArrTimeBlk_1200-1259    float64\n",
      "ArrTimeBlk_1300-1359    float64\n",
      "ArrTimeBlk_1400-1459    float64\n",
      "ArrTimeBlk_1500-1559    float64\n",
      "ArrTimeBlk_1600-1659    float64\n",
      "ArrTimeBlk_1700-1759    float64\n",
      "ArrTimeBlk_1800-1859    float64\n",
      "ArrTimeBlk_1900-1959    float64\n",
      "ArrTimeBlk_2000-2059    float64\n",
      "ArrTimeBlk_2100-2159    float64\n",
      "ArrTimeBlk_2200-2259    float64\n",
      "ArrTimeBlk_2300-2359    float64\n",
      "dtypes: float64(25), int64(2)\n",
      "memory usage: 824.9 MB\n"
     ]
    }
   ],
   "source": [
    "# Converts categorical variable ArrTimeBlck to binary\n",
    "tmp_df = pd.get_dummies(df_X.ArrTimeBlk,prefix='ArrTimeBlk')\n",
    "df_imputed = pd.concat((df_X,tmp_df),axis=1) # add back into the dataframe\n",
    "df_X = df_imputed.drop('ArrTimeBlk', axis=1)\n",
    "df_X.info()"
   ]
  },
  {
   "cell_type": "code",
   "execution_count": 21,
   "metadata": {
    "collapsed": false
   },
   "outputs": [],
   "source": [
    "y = NonCancelled5['ArrDel15'].values\n",
    "X = df_X.values"
   ]
  },
  {
   "cell_type": "code",
   "execution_count": 22,
   "metadata": {
    "collapsed": false
   },
   "outputs": [
    {
     "name": "stdout",
     "output_type": "stream",
     "text": [
      "ShuffleSplit(3861545, n_iter=3, test_size=0.2, random_state=None)\n"
     ]
    }
   ],
   "source": [
    "from sklearn.cross_validation import ShuffleSplit\n",
    "\n",
    "num_cv_iterations = 3\n",
    "num_instances = len(y)\n",
    "cv_object = ShuffleSplit(n=num_instances,\n",
    "                         n_iter=num_cv_iterations,\n",
    "                         test_size  = 0.2)\n",
    "                         \n",
    "print (cv_object)"
   ]
  },
  {
   "cell_type": "markdown",
   "metadata": {
    "collapsed": true
   },
   "source": [
    "________\n",
    "**Resubmission Info **\n",
    "\n",
    "Added a subsampling of data for the latter SVM models. This was required because the dataset is extremely large and\n",
    "takes a very long time to run in its entirety"
   ]
  },
  {
   "cell_type": "code",
   "execution_count": 23,
   "metadata": {
    "collapsed": false
   },
   "outputs": [
    {
     "name": "stdout",
     "output_type": "stream",
     "text": [
      "ShuffleSplit(3861545, n_iter=3, test_size=5000, random_state=None)\n"
     ]
    }
   ],
   "source": [
    "num_cv_iterations = 3\n",
    "num_instances = len(y)\n",
    "sm_cv_object = ShuffleSplit(n=num_instances,\n",
    "                         n_iter=num_cv_iterations,\n",
    "                         test_size=5000,train_size=20000)\n",
    "                         \n",
    "print (sm_cv_object)"
   ]
  },
  {
   "cell_type": "markdown",
   "metadata": {},
   "source": [
    "# Run Logistic Regression"
   ]
  },
  {
   "cell_type": "code",
   "execution_count": 24,
   "metadata": {
    "collapsed": false
   },
   "outputs": [
    {
     "name": "stdout",
     "output_type": "stream",
     "text": [
      "('====Iteration', 0, ' ====')\n",
      "('accuracy', 0.57685589576192953)\n",
      "('confusion matrix\\n', array([[352928, 274435],\n",
      "       [ 52363,  92583]]))\n",
      "('====Iteration', 1, ' ====')\n",
      "('accuracy', 0.57541864719950175)\n",
      "('confusion matrix\\n', array([[351555, 275721],\n",
      "       [ 52187,  92846]]))\n",
      "('====Iteration', 2, ' ====')\n",
      "('accuracy', 0.5759184471500397)\n",
      "('confusion matrix\\n', array([[351833, 275243],\n",
      "       [ 52279,  92954]]))\n"
     ]
    }
   ],
   "source": [
    "# run logistic regression and vary some parameters\n",
    "from sklearn.linear_model import LogisticRegression\n",
    "from sklearn import metrics as mt\n",
    "\n",
    "# first we create a reusable logisitic regression object\n",
    "#   here we can setup the object with different learning parameters and constants\n",
    "lr_clf = LogisticRegression(penalty='l2', C=1.0, class_weight='balanced') # get object\n",
    "\n",
    "# now we can use the cv_object that we setup before to iterate through the \n",
    "# different training and testing sets. Each time we will reuse the logisitic regression \n",
    "# object, but it gets trained on different data each time we use it.\n",
    "\n",
    "iter_num=0\n",
    "# the indices are the rows used for training and testing in each iteration\n",
    "for train_indices, test_indices in cv_object: \n",
    "    X_train = X[train_indices]\n",
    "    y_train = y[train_indices]\n",
    "    \n",
    "    X_test = X[test_indices]\n",
    "    y_test = y[test_indices]\n",
    "# I will create new variables here so that it is more obvious what \n",
    "# the code is doing (you can compact this syntax and avoid duplicating memory,\n",
    "# but it makes this code less readable)\n",
    "    \n",
    "# train the reusable logisitc regression model on the training data\n",
    "    lr_clf.fit(X_train,y_train)  # train object\n",
    "    y_hat = lr_clf.predict(X_test) # get test set precitions\n",
    "\n",
    "# now let's get the accuracy and confusion matrix for this iterations of training/testing\n",
    "    acc = mt.accuracy_score(y_test,y_hat)\n",
    "    conf = mt.confusion_matrix(y_test,y_hat)\n",
    "    print (\"====Iteration\",iter_num,\" ====\")\n",
    "    print (\"accuracy\", acc )\n",
    "    print (\"confusion matrix\\n\",conf)\n",
    "    iter_num+=1\n",
    "    \n",
    "# Also note that every time you run the above code\n",
    "#   it randomly creates a new training and testing set, \n",
    "#   so accuracy will be different each time"
   ]
  },
  {
   "cell_type": "markdown",
   "metadata": {},
   "source": [
    "Performance: 1:11 / 1:07 / 1:09\n",
    "Logistic regression execution took an average of one minute, 9 seconds to generate 3 output matrices.\n",
    "Original cost of 1.0 yielded accuracy average of 0.5756"
   ]
  },
  {
   "cell_type": "markdown",
   "metadata": {},
   "source": [
    "________\n",
    "Interactively adjust the cost parameter"
   ]
  },
  {
   "cell_type": "code",
   "execution_count": 25,
   "metadata": {
    "collapsed": false
   },
   "outputs": [
    {
     "name": "stdout",
     "output_type": "stream",
     "text": [
      "[ 0.57577213  0.57546008  0.57549893]\n"
     ]
    }
   ],
   "source": [
    "# here we can change some of the parameters interactively\n",
    "from ipywidgets import widgets as wd\n",
    "\n",
    "def lr_explor(cost):\n",
    "    lr_clf = LogisticRegression(penalty='l2', C=cost, class_weight='balanced') # get object\n",
    "    accuracies = cross_val_score(lr_clf,X,y=y,cv=cv_object) # this also can help with parallelism\n",
    "    print(accuracies)\n",
    "\n",
    "wd.interact(lr_explor,cost=(0.001,5.0,0.05))"
   ]
  },
  {
   "cell_type": "markdown",
   "metadata": {},
   "source": [
    "Trial results:\n",
    "\n",
    "0.201 [ 0.57701275  0.57649318  0.57623339]\n",
    "\n",
    "5.001 [ 0.57686001  0.57743311  0.57689787]\n",
    "\n",
    "10.301 [ 0.57612374  0.57632217  0.57595403]\n",
    "\n",
    "19.151 [ 0.57528172  0.57631955  0.57529869]\n",
    "\n",
    "49.951 [ 0.57608979  0.57544098  0.57648665]\n",
    "\n",
    "100 [ 0.57690179  0.57518511  0.57553367]\n",
    "\n",
    "Changes to cost did not yield any significant differences in accuracy"
   ]
  },
  {
   "cell_type": "markdown",
   "metadata": {},
   "source": [
    "________\n",
    "# Weight Interpretation\n",
    "\n",
    "#### Resubmission Info \n",
    "\n",
    "Corrected the spurious model by adding the class_weight parameter. We selected the \"balanced\" mode that \n",
    "uses the values of y to automatically adjust weights."
   ]
  },
  {
   "cell_type": "code",
   "execution_count": 26,
   "metadata": {
    "collapsed": false
   },
   "outputs": [
    {
     "name": "stdout",
     "output_type": "stream",
     "text": [
      "('accuracy:', 0.57591197305741615)\n",
      "[[351827 275249]\n",
      " [ 52278  92955]]\n",
      "('ArrTimeBlk', 'has weight of', -0.02637215346261422)\n",
      "('Distance', 'has weight of', -0.06159543809553731)\n",
      "('DayOfWeek', 'has weight of', -0.06740970611784633)\n",
      "('DayofMonth', 'has weight of', 0.032589403010006089)\n",
      "('Carrier_AA', 'has weight of', -0.15124411580086491)\n",
      "('Carrier_DL', 'has weight of', 0.060278100957759657)\n",
      "('Carrier_EV', 'has weight of', 0.038952718469151902)\n",
      "('Carrier_OO', 'has weight of', 0.033008374070916495)\n",
      "('Carrier_WN', 'has weight of', 0.05373271689494194)\n",
      "('ArrTimeBlk_0001-0559', 'has weight of', -0.086292212022160475)\n",
      "('ArrTimeBlk_0600-0659', 'has weight of', -0.18175203742961346)\n",
      "('ArrTimeBlk_0700-0759', 'has weight of', -0.16007289997431329)\n",
      "('ArrTimeBlk_0800-0859', 'has weight of', -0.15089555018761278)\n",
      "('ArrTimeBlk_0900-0959', 'has weight of', -0.10242277407648075)\n",
      "('ArrTimeBlk_1000-1059', 'has weight of', -0.089244137787575867)\n",
      "('ArrTimeBlk_1100-1159', 'has weight of', -0.065325261821838829)\n",
      "('ArrTimeBlk_1200-1259', 'has weight of', -0.039362182757393518)\n",
      "('ArrTimeBlk_1300-1359', 'has weight of', -0.012432862644237869)\n",
      "('ArrTimeBlk_1400-1459', 'has weight of', 0.01123042661236231)\n",
      "('ArrTimeBlk_1500-1559', 'has weight of', 0.043145398119262032)\n",
      "('ArrTimeBlk_1600-1659', 'has weight of', 0.068101067058422685)\n",
      "('ArrTimeBlk_1700-1759', 'has weight of', 0.09762783937120377)\n",
      "('ArrTimeBlk_1800-1859', 'has weight of', 0.10502409227042869)\n",
      "('ArrTimeBlk_1900-1959', 'has weight of', 0.11806753709432918)\n",
      "('ArrTimeBlk_2000-2059', 'has weight of', 0.12776593122966023)\n",
      "('ArrTimeBlk_2100-2159', 'has weight of', 0.11567846078329404)\n",
      "('ArrTimeBlk_2200-2259', 'has weight of', 0.09783725155417336)\n"
     ]
    }
   ],
   "source": [
    "from sklearn.preprocessing import StandardScaler\n",
    "\n",
    "# we want to normalize the features based upon the mean and standard deviation of each column. \n",
    "# However, we do not want to accidentally use the testing data to find out the mean and std (this would be snooping)\n",
    "# to Make things easier, let's start by just using whatever was last stored in the variables:\n",
    "##    X_train , y_train , X_test, y_test (they were set in a for loop above)\n",
    "\n",
    "# scale attributes by the training set\n",
    "scl_obj = StandardScaler()\n",
    "scl_obj.fit(X_train) # find scalings for each column that make this zero mean and unit std\n",
    "# the line of code above only looks at training data to get mean and std and we can use it \n",
    "# to transform new feature data\n",
    "\n",
    "X_train_scaled = scl_obj.transform(X_train) # apply to training\n",
    "X_test_scaled = scl_obj.transform(X_test) # apply those means and std to the test set (without snooping at the test set values)\n",
    "\n",
    "# train the model just as before\n",
    "lr_clf = LogisticRegression(penalty='l2', C=0.05, class_weight='balanced') # get object, the 'C' value is less (can you guess why??)\n",
    "lr_clf.fit(X_train_scaled,y_train)  # train object\n",
    "\n",
    "y_hat = lr_clf.predict(X_test_scaled) # get test set precitions\n",
    "\n",
    "acc = mt.accuracy_score(y_test,y_hat)\n",
    "conf = mt.confusion_matrix(y_test,y_hat)\n",
    "print('accuracy:', acc )\n",
    "print(conf )\n",
    "\n",
    "# sort these attributes and spit them out\n",
    "zip_vars = zip(lr_clf.coef_.T,df_imputed.columns) # combine attributes\n",
    "# sorted(zip_vars, key = lambda t: np.abs(t[0])) # sort them by the magnitude of the weight\n",
    "for coef, name in zip_vars:\n",
    "    print(name, 'has weight of', coef[0]) # now print them out"
   ]
  },
  {
   "cell_type": "markdown",
   "metadata": {},
   "source": [
    "________\n",
    "Graphical ouptut of weights"
   ]
  },
  {
   "cell_type": "code",
   "execution_count": 30,
   "metadata": {
    "collapsed": false
   },
   "outputs": [
    {
     "data": {
      "image/png": "[encoded data removed]",
      "text/plain": [
       "<matplotlib.figure.Figure at 0x177981320>"
      ]
     },
     "metadata": {},
     "output_type": "display_data"
    }
   ],
   "source": [
    "from matplotlib import pyplot as plt\n",
    "%matplotlib inline\n",
    "plt.style.use('ggplot')\n",
    "\n",
    "\n",
    "weights = pd.Series(lr_clf.coef_[0],index=df_X.columns)\n",
    "weights.plot(kind='bar')\n",
    "plt.show()"
   ]
  },
  {
   "cell_type": "markdown",
   "metadata": {},
   "source": [
    "Interpretation: Time of day (ArrTimeBlk) appears to be the most important variable in predicting if a flight will be delayed.\n",
    "Flights arriving after 3 pm have an increased weight while those arriving before noon have a decreasing weight the earlier in \n",
    "the day they arrive.  Of the top five carriers, four were closely weighted together between .025 and .05 but Delta was an \n",
    "outlier at -0.15.  Flight distance, day of week, and day of month were all around -0.05, making them less important than arrival block."
   ]
  },
  {
   "cell_type": "markdown",
   "metadata": {},
   "source": [
    "# Support Vector Machine"
   ]
  },
  {
   "cell_type": "code",
   "execution_count": 31,
   "metadata": {
    "collapsed": false
   },
   "outputs": [
    {
     "name": "stdout",
     "output_type": "stream",
     "text": [
      "('Confusion:', array([[350553, 276396],\n",
      "       [ 54613,  90747]]))\n",
      "('SVM:', 0.57140341495437708)\n"
     ]
    }
   ],
   "source": [
    "# use some compact notation for creating a linear SVM classifier with stichastic descent\n",
    "from sklearn.preprocessing import StandardScaler\n",
    "from sklearn.linear_model import SGDClassifier\n",
    "\n",
    "regularize_const = 0.1\n",
    "iterations = 5\n",
    "svm_sgd = SGDClassifier(alpha=regularize_const,\n",
    "        fit_intercept=True, l1_ratio=0.0, learning_rate='optimal',\n",
    "        loss='hinge', n_iter=iterations, n_jobs=-1, penalty='l2', class_weight='balanced')\n",
    "\n",
    "scl = StandardScaler()\n",
    "for train_idx, test_idx in cv_object:\n",
    "    svm_sgd.fit(scl.fit_transform(X[train_idx]),y[train_idx])\n",
    "    yhat = svm_sgd.predict(scl.transform(X[test_idx]))\n",
    "    \n",
    "    conf = mt.confusion_matrix(y[test_idx],yhat)\n",
    "    acc = mt.accuracy_score(y[test_idx],yhat)\n",
    "\n",
    "print ('Confusion:', conf)\n",
    "print ('SVM:', acc)\n"
   ]
  },
  {
   "cell_type": "code",
   "execution_count": 32,
   "metadata": {
    "collapsed": false
   },
   "outputs": [
    {
     "data": {
      "image/png": "[encoded data removed]",
      "text/plain": [
       "<matplotlib.figure.Figure at 0x6a06c5f8>"
      ]
     },
     "metadata": {},
     "output_type": "display_data"
    }
   ],
   "source": [
    "from matplotlib import pyplot as plt\n",
    "%matplotlib inline\n",
    "plt.style.use('ggplot')\n",
    "\n",
    "\n",
    "weights = pd.Series(svm_sgd.coef_[0],index=df_X.columns)\n",
    "weights.plot(kind='bar')\n",
    "plt.show()"
   ]
  },
  {
   "cell_type": "markdown",
   "metadata": {
    "collapsed": true
   },
   "source": [
    "#### Resubmission Info \n",
    "The SVM (stochastic gradient descent) weights are similar to the logistic regression weights. However, a few of the\n",
    "vectors such as carrier and day of the week become less important.\n",
    "\n",
    "In this model logistic regression and SVM perform equally as well. However, SVM (stochastic gradient descent) is more efficient and runs significantly faster which should be a consideration.\n",
    "\n",
    "Performance: :26 / :28 / :26 SVM required an average of 27 to return an average for five iterations. SVM performed in roughly 1/3 the amount of time as Logistic Regression even while doing more iterations. Logistic regression had a slighly higher accuracy weight than SVM (0.5756 versus 0.5464)"
   ]
  },
  {
   "cell_type": "markdown",
   "metadata": {},
   "source": [
    "________\n",
    "#### Resubmission Info \n",
    "\n",
    "Added SVM kernels: RBF and linear\n",
    "\n",
    "These SVM models were run using a subsampling of data. The test and training datasets were defined with 5000 and 20000\n",
    "rows, respectively. These SVM models did not consistently outperform the logistic regression model. Some of the\n",
    "iterations were above 58% but on average they fell short of the logistic regression model."
   ]
  },
  {
   "cell_type": "code",
   "execution_count": 33,
   "metadata": {
    "collapsed": false
   },
   "outputs": [
    {
     "name": "stdout",
     "output_type": "stream",
     "text": [
      "Kernel: rbf\n",
      "('====Iteration', 0, ' ====')\n",
      "('accuracy', 0.53459999999999996)\n",
      "('confusion matrix\\n', array([[2051, 2033],\n",
      "       [ 294,  622]]))\n",
      "('====Iteration', 1, ' ====')\n",
      "('accuracy', 0.57440000000000002)\n",
      "('confusion matrix\\n', array([[2266, 1776],\n",
      "       [ 352,  606]]))\n",
      "('====Iteration', 2, ' ====')\n",
      "('accuracy', 0.56520000000000004)\n",
      "('confusion matrix\\n', array([[2244, 1851],\n",
      "       [ 323,  582]]))\n",
      "Kernel: linear\n",
      "('====Iteration', 3, ' ====')\n",
      "('accuracy', 0.58160000000000001)\n",
      "('confusion matrix\\n', array([[2295, 1753],\n",
      "       [ 339,  613]]))\n",
      "('====Iteration', 4, ' ====')\n",
      "('accuracy', 0.55679999999999996)\n",
      "('confusion matrix\\n', array([[2202, 1856],\n",
      "       [ 360,  582]]))\n",
      "('====Iteration', 5, ' ====')\n",
      "('accuracy', 0.53239999999999998)\n",
      "('confusion matrix\\n', array([[1976, 2005],\n",
      "       [ 333,  686]]))\n"
     ]
    }
   ],
   "source": [
    "from sklearn.preprocessing import StandardScaler\n",
    "from sklearn.svm import SVC\n",
    "\n",
    "iter_num=0\n",
    "regularize_const = 0.1\n",
    "iterations = 3\n",
    "\n",
    "for kernel in ('rbf', 'linear'):\n",
    "\n",
    "    print (\"Kernel: \" + kernel)    \n",
    "    svm_clf = SVC(C=1, kernel=kernel, gamma=.001, class_weight='balanced')           \n",
    "\n",
    "    scl = StandardScaler()\n",
    "    for train_idx, test_idx in sm_cv_object:\n",
    "        svm_clf.fit(scl.fit_transform(X[train_idx]),y[train_idx])\n",
    "        yhat = svm_clf.predict(scl.transform(X[test_idx]))   \n",
    "\n",
    "\n",
    "        conf = mt.confusion_matrix(y[test_idx],yhat)\n",
    "        acc = mt.accuracy_score(y[test_idx],yhat)\n",
    "\n",
    "        print (\"====Iteration\",iter_num,\" ====\")\n",
    "        print (\"accuracy\", acc)\n",
    "        print (\"confusion matrix\\n\",conf)\n",
    "        iter_num+=1\n"
   ]
  },
  {
   "cell_type": "markdown",
   "metadata": {},
   "source": [
    "________\n",
    "#### Resubmission Info \n",
    "\n",
    "Analyze the rbf kernel SVC support vectors\n",
    "\n",
    "The support vectors match the stochastic gradient decent but are much different than the logistic regression support\n",
    "vectors. These indicate the time of day (ArrTimeBlk) to be the most important variable in predicting if a flight will be delayed. The others such as the carrier are less important."
   ]
  },
  {
   "cell_type": "code",
   "execution_count": 34,
   "metadata": {
    "collapsed": false
   },
   "outputs": [
    {
     "data": {
      "image/png": "[encoded data removed]",
      "text/plain": [
       "<matplotlib.figure.Figure at 0x9f5b5e10>"
      ]
     },
     "metadata": {},
     "output_type": "display_data"
    }
   ],
   "source": [
    "from matplotlib import pyplot as plt\n",
    "%matplotlib inline\n",
    "plt.style.use('ggplot')\n",
    "\n",
    "\n",
    "weights = pd.Series(svm_clf.coef_[0],index=df_X.columns)\n",
    "weights.plot(kind='bar')\n",
    "plt.show()"
   ]
  },
  {
   "cell_type": "markdown",
   "metadata": {
    "collapsed": true
   },
   "source": [
    "## Final Conclusions:\n",
    "\n",
    "With exception to the support vectors the differences between the logistic regression and SVM were insignificant as \n",
    "both had an accuracy of ~58%. The logistic regression model was able to run fairly efficiently on the entire dataset but the SVM models required a subset of the data. Therefore, based on these efficiencies the logistic regression model is the preferred choice.\n"
   ]
  },
  {
   "cell_type": "code",
   "execution_count": null,
   "metadata": {
    "collapsed": true
   },
   "outputs": [],
   "source": []
  }
 ],
 "metadata": {
  "kernelspec": {
   "display_name": "Python 2",
   "language": "python",
   "name": "python2"
  },
  "language_info": {
   "codemirror_mode": {
    "name": "ipython",
    "version": 2
   },
   "file_extension": ".py",
   "mimetype": "text/x-python",
   "name": "python",
   "nbconvert_exporter": "python",
   "pygments_lexer": "ipython2",
   "version": "2.7.11"
  }
 },
 "nbformat": 4,
 "nbformat_minor": 0
}
